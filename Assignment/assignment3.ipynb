{
 "cells": [
  {
   "cell_type": "code",
   "execution_count": 1,
   "metadata": {},
   "outputs": [
    {
     "name": "stdout",
     "output_type": "stream",
     "text": [
      "Time step 0:\n",
      "State: 1, Action: ActR\n",
      "Q_hat: -1.8\n",
      "Grad(Q_hat): [1 1]\n",
      "x(s, a): [1 1]\n",
      "\n",
      "Time step 1:\n",
      "State: 2, Action: ActR\n",
      "Q_hat: 271.8\n",
      "Grad(Q_hat): [2 4]\n",
      "x(s, a): [2 4]\n",
      "\n",
      "[26.82 54.54]\n"
     ]
    }
   ],
   "source": [
    "import numpy as np\n",
    "\n",
    "# Initialize parameters\n",
    "gamma = 1  # Discount rate\n",
    "alpha = 0.9  # Step size\n",
    "w = np.array([0, 0]) * 1.0  # Initial weight vector\n",
    "\n",
    "# Zero initialization of the Q-values\n",
    "Q = {(1, 'ActL'): 0, (1, 'ActR'): 0, (2, 'ActL'): 0, (2, 'ActR'): 0, (3, 'ActL'): 0, (3, 'ActR'): 0}\n",
    "\n",
    "# Define the feature function\n",
    "def x(s, a):\n",
    "    if a == 'ActL':\n",
    "        return np.array([1, s])\n",
    "    else:  # ActR\n",
    "        return np.array([s, s**2])\n",
    "\n",
    "# Define the approximate Q-function\n",
    "def q_hat(s, a, w):\n",
    "    return np.dot(w, x(s, a))\n",
    "\n",
    "# Define the gradient of q_hat with respect to w\n",
    "def grad_q_hat(s, a):\n",
    "    return x(s, a)\n",
    "\n",
    "# Perform the episodic semi-gradient SARSA update for two steps\n",
    "for t, (s, a, r, s_next, a_next) in enumerate([(1, 'ActR', -1, 2, 'ActR'), (2, 'ActR', 10, 3, None)]):\n",
    "    # Calculate the target Q-value, set it to zero if the key doesnt exist\n",
    "    Q_target = r + gamma * Q.get((s_next, a_next), 0)\n",
    "    \n",
    "    # Update rule\n",
    "    w += alpha * (Q_target - q_hat(s, a, w)) * grad_q_hat(s, a)\n",
    "    \n",
    "    # Print the required values\n",
    "    print(f\"Time step {t}:\")\n",
    "    print(f\"State: {s}, Action: {a}\")\n",
    "    print(f\"Q_hat: {q_hat(s, a, w).round(2)}\")\n",
    "    print(f\"Grad(Q_hat): {grad_q_hat(s, a).round(2)}\")\n",
    "    print(f\"x(s, a): {x(s, a).round(2)}\\n\")\n",
    "    \n",
    "print(w.round(2))"
   ]
  },
  {
   "cell_type": "code",
   "execution_count": null,
   "metadata": {},
   "outputs": [],
   "source": []
  }
 ],
 "metadata": {
  "kernelspec": {
   "display_name": "base",
   "language": "python",
   "name": "python3"
  },
  "language_info": {
   "codemirror_mode": {
    "name": "ipython",
    "version": 3
   },
   "file_extension": ".py",
   "mimetype": "text/x-python",
   "name": "python",
   "nbconvert_exporter": "python",
   "pygments_lexer": "ipython3",
   "version": "3.11.5"
  }
 },
 "nbformat": 4,
 "nbformat_minor": 2
}
